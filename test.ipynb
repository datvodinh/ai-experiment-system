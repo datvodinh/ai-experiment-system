{
 "cells": [
  {
   "cell_type": "code",
   "execution_count": 3,
   "metadata": {},
   "outputs": [],
   "source": [
    "from pydantic import BaseModel\n",
    "from datetime import datetime"
   ]
  },
  {
   "cell_type": "code",
   "execution_count": 8,
   "metadata": {},
   "outputs": [],
   "source": [
    "class JobConfig(BaseModel):\n",
    "    _id: str\n",
    "    job_id: str\n",
    "    time: datetime\n",
    "    status: str"
   ]
  },
  {
   "cell_type": "code",
   "execution_count": 9,
   "metadata": {},
   "outputs": [],
   "source": [
    "config = JobConfig(job_id=\"abc\",time=datetime.now(),status=\"ok\",_id=\"abc\")"
   ]
  },
  {
   "cell_type": "code",
   "execution_count": 13,
   "metadata": {},
   "outputs": [
    {
     "data": {
      "text/plain": [
       "{'job_id': 'abc'}"
      ]
     },
     "execution_count": 13,
     "metadata": {},
     "output_type": "execute_result"
    }
   ],
   "source": [
    "config.model_dump(include=[\"_id\",\"job_id\"])"
   ]
  },
  {
   "cell_type": "code",
   "execution_count": 13,
   "metadata": {},
   "outputs": [],
   "source": [
    "from typing_extensions import Unpack\n",
    "from fastapi import APIRouter\n",
    "from pymongo import MongoClient\n",
    "from pydantic import BaseModel, ConfigDict\n",
    "from datetime import datetime\n",
    "from typing import Any\n",
    "import time\n",
    "class Statistic(BaseModel):\n",
    "    time: datetime\n",
    "    best_config: dict[str, str]\n",
    "    all_config: list[dict[str, str]]"
   ]
  },
  {
   "cell_type": "code",
   "execution_count": 14,
   "metadata": {},
   "outputs": [
    {
     "name": "stdout",
     "output_type": "stream",
     "text": [
      "2024-03-13 15:59:20.335834\n",
      "2024-03-13 15:59:21.341113\n",
      "2024-03-13 15:59:22.344678\n"
     ]
    }
   ],
   "source": [
    "for i in range(3):\n",
    "    s = Statistic(time=datetime.now(),best_config={\"a\": \"ok\"}, all_config=[{\"a\":\"ok\"},{\"b\":\"not ok\"}])\n",
    "    time.sleep(1)\n",
    "    print(s.time)"
   ]
  },
  {
   "cell_type": "code",
   "execution_count": 4,
   "metadata": {},
   "outputs": [
    {
     "data": {
      "text/plain": [
       "'Job add Completed!'"
      ]
     },
     "execution_count": 4,
     "metadata": {},
     "output_type": "execute_result"
    }
   ],
   "source": [
    "import requests\n",
    "\n",
    "requests.post(\"http://0.0.0.0:8000/jobs/haha\").text"
   ]
  },
  {
   "cell_type": "code",
   "execution_count": 11,
   "metadata": {},
   "outputs": [
    {
     "data": {
      "text/plain": [
       "{'job_id': 'haha', 'time': '2024-03-13T09:21:53.017000', 'status': 'queuing'}"
      ]
     },
     "execution_count": 11,
     "metadata": {},
     "output_type": "execute_result"
    }
   ],
   "source": [
    "import json\n",
    "json.loads(requests.get(\"http://0.0.0.0:8000/jobs/haha\").text)"
   ]
  }
 ],
 "metadata": {
  "kernelspec": {
   "display_name": "venv",
   "language": "python",
   "name": "python3"
  },
  "language_info": {
   "codemirror_mode": {
    "name": "ipython",
    "version": 3
   },
   "file_extension": ".py",
   "mimetype": "text/x-python",
   "name": "python",
   "nbconvert_exporter": "python",
   "pygments_lexer": "ipython3",
   "version": "3.11.5"
  }
 },
 "nbformat": 4,
 "nbformat_minor": 2
}
